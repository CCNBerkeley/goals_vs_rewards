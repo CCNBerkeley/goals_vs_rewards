{
 "cells": [
  {
   "cell_type": "code",
   "execution_count": 6,
   "metadata": {
    "collapsed": false
   },
   "outputs": [
    {
     "data": {
      "text/html": [
       "<div>\n",
       "<table border=\"1\" class=\"dataframe\">\n",
       "  <thead>\n",
       "    <tr style=\"text-align: right;\">\n",
       "      <th></th>\n",
       "      <th>action</th>\n",
       "      <th>bonus</th>\n",
       "      <th>box_images</th>\n",
       "      <th>boxes</th>\n",
       "      <th>condition</th>\n",
       "      <th>correct</th>\n",
       "      <th>goals</th>\n",
       "      <th>indexOf</th>\n",
       "      <th>key_list</th>\n",
       "      <th>phase</th>\n",
       "      <th>resp_time</th>\n",
       "      <th>response</th>\n",
       "      <th>reward</th>\n",
       "      <th>status</th>\n",
       "      <th>subphase</th>\n",
       "      <th>template</th>\n",
       "      <th>templates</th>\n",
       "      <th>trials_done</th>\n",
       "      <th>uniqueid</th>\n",
       "      <th>viewTime</th>\n",
       "    </tr>\n",
       "  </thead>\n",
       "  <tbody>\n",
       "    <tr>\n",
       "      <th>2</th>\n",
       "      <td>NaN</td>\n",
       "      <td>NaN</td>\n",
       "      <td>['/static/images/box2.jpg', '/static/images/bo...</td>\n",
       "      <td>NaN</td>\n",
       "      <td>0.0</td>\n",
       "      <td>NaN</td>\n",
       "      <td>NaN</td>\n",
       "      <td>NaN</td>\n",
       "      <td>NaN</td>\n",
       "      <td>NaN</td>\n",
       "      <td>NaN</td>\n",
       "      <td>NaN</td>\n",
       "      <td>NaN</td>\n",
       "      <td>NaN</td>\n",
       "      <td>NaN</td>\n",
       "      <td>NaN</td>\n",
       "      <td>NaN</td>\n",
       "      <td>NaN</td>\n",
       "      <td>A2WXDAIVLJOCW7:33PPUNGG396OT428N5ETJH58L0DZRX</td>\n",
       "      <td>NaN</td>\n",
       "    </tr>\n",
       "    <tr>\n",
       "      <th>3</th>\n",
       "      <td>NaN</td>\n",
       "      <td>NaN</td>\n",
       "      <td>NaN</td>\n",
       "      <td>NaN</td>\n",
       "      <td>NaN</td>\n",
       "      <td>NaN</td>\n",
       "      <td>NaN</td>\n",
       "      <td>NaN</td>\n",
       "      <td>NaN</td>\n",
       "      <td>goal_survey_pre</td>\n",
       "      <td>NaN</td>\n",
       "      <td>NaN</td>\n",
       "      <td>NaN</td>\n",
       "      <td>begin</td>\n",
       "      <td>NaN</td>\n",
       "      <td>NaN</td>\n",
       "      <td>NaN</td>\n",
       "      <td>NaN</td>\n",
       "      <td>A2WXDAIVLJOCW7:33PPUNGG396OT428N5ETJH58L0DZRX</td>\n",
       "      <td>NaN</td>\n",
       "    </tr>\n",
       "    <tr>\n",
       "      <th>4</th>\n",
       "      <td>NaN</td>\n",
       "      <td>NaN</td>\n",
       "      <td>NaN</td>\n",
       "      <td>NaN</td>\n",
       "      <td>NaN</td>\n",
       "      <td>NaN</td>\n",
       "      <td>NaN</td>\n",
       "      <td>NaN</td>\n",
       "      <td>NaN</td>\n",
       "      <td>goal_survey_pre</td>\n",
       "      <td>NaN</td>\n",
       "      <td>['goal_survey_pre-input1: 3', 'goal_survey_pre...</td>\n",
       "      <td>NaN</td>\n",
       "      <td>submit</td>\n",
       "      <td>NaN</td>\n",
       "      <td>NaN</td>\n",
       "      <td>NaN</td>\n",
       "      <td>NaN</td>\n",
       "      <td>A2WXDAIVLJOCW7:33PPUNGG396OT428N5ETJH58L0DZRX</td>\n",
       "      <td>NaN</td>\n",
       "    </tr>\n",
       "  </tbody>\n",
       "</table>\n",
       "</div>"
      ],
      "text/plain": [
       "  action  bonus                                         box_images boxes  \\\n",
       "2    NaN    NaN  ['/static/images/box2.jpg', '/static/images/bo...   NaN   \n",
       "3    NaN    NaN                                                NaN   NaN   \n",
       "4    NaN    NaN                                                NaN   NaN   \n",
       "\n",
       "   condition correct goals  indexOf key_list            phase  resp_time  \\\n",
       "2        0.0     NaN   NaN      NaN      NaN              NaN        NaN   \n",
       "3        NaN     NaN   NaN      NaN      NaN  goal_survey_pre        NaN   \n",
       "4        NaN     NaN   NaN      NaN      NaN  goal_survey_pre        NaN   \n",
       "\n",
       "                                            response reward  status subphase  \\\n",
       "2                                                NaN    NaN     NaN      NaN   \n",
       "3                                                NaN    NaN   begin      NaN   \n",
       "4  ['goal_survey_pre-input1: 3', 'goal_survey_pre...    NaN  submit      NaN   \n",
       "\n",
       "  template templates trials_done  \\\n",
       "2      NaN       NaN         NaN   \n",
       "3      NaN       NaN         NaN   \n",
       "4      NaN       NaN         NaN   \n",
       "\n",
       "                                        uniqueid  viewTime  \n",
       "2  A2WXDAIVLJOCW7:33PPUNGG396OT428N5ETJH58L0DZRX       NaN  \n",
       "3  A2WXDAIVLJOCW7:33PPUNGG396OT428N5ETJH58L0DZRX       NaN  \n",
       "4  A2WXDAIVLJOCW7:33PPUNGG396OT428N5ETJH58L0DZRX       NaN  "
      ]
     },
     "execution_count": 6,
     "metadata": {},
     "output_type": "execute_result"
    }
   ],
   "source": [
    "from pandas import DataFrame\n",
    "import numpy as np\n",
    "import math\n",
    "import matplotlib.pyplot as plt\n",
    "\n",
    "df = DataFrame.from_csv(\"/home/dan/documents/ccn/anne_2.tsv\", sep=\"\\t\")\n",
    "\n",
    "df.head(3)\n"
   ]
  },
  {
   "cell_type": "code",
   "execution_count": 23,
   "metadata": {
    "collapsed": false
   },
   "outputs": [
    {
     "ename": "TypeError",
     "evalue": "bad operand type for unary ~: 'function'",
     "output_type": "error",
     "traceback": [
      "\u001b[1;31m---------------------------------------------------------------------------\u001b[0m",
      "\u001b[1;31mTypeError\u001b[0m                                 Traceback (most recent call last)",
      "\u001b[1;32m<ipython-input-23-68f70b78502c>\u001b[0m in \u001b[0;36m<module>\u001b[1;34m()\u001b[0m\n\u001b[0;32m      7\u001b[0m \u001b[0mcf\u001b[0m\u001b[1;33m.\u001b[0m\u001b[0mreplace\u001b[0m\u001b[1;33m(\u001b[0m\u001b[1;34m'True'\u001b[0m \u001b[1;33m,\u001b[0m\u001b[1;36m1\u001b[0m\u001b[1;33m)\u001b[0m\u001b[1;33m\u001b[0m\u001b[0m\n\u001b[0;32m      8\u001b[0m \u001b[1;33m\u001b[0m\u001b[0m\n\u001b[1;32m----> 9\u001b[1;33m \u001b[0mcf2\u001b[0m\u001b[1;33m.\u001b[0m\u001b[0mmask\u001b[0m\u001b[1;33m(\u001b[0m\u001b[1;32mlambda\u001b[0m \u001b[0mitem\u001b[0m\u001b[1;33m:\u001b[0m \u001b[0mitem\u001b[0m \u001b[1;33m==\u001b[0m \u001b[1;34m'False'\u001b[0m\u001b[1;33m,\u001b[0m \u001b[0mother\u001b[0m \u001b[1;33m=\u001b[0m \u001b[0mnp\u001b[0m\u001b[1;33m.\u001b[0m\u001b[0mnan\u001b[0m\u001b[1;33m,\u001b[0m \u001b[0minplace\u001b[0m\u001b[1;33m=\u001b[0m\u001b[1;36m1\u001b[0m\u001b[1;33m,\u001b[0m \u001b[0maxis\u001b[0m\u001b[1;33m=\u001b[0m\u001b[1;32mNone\u001b[0m\u001b[1;33m,\u001b[0m \u001b[0mlevel\u001b[0m\u001b[1;33m=\u001b[0m\u001b[1;32mNone\u001b[0m\u001b[1;33m,\u001b[0m \u001b[0mtry_cast\u001b[0m\u001b[1;33m=\u001b[0m\u001b[1;32mFalse\u001b[0m\u001b[1;33m,\u001b[0m \u001b[0mraise_on_error\u001b[0m\u001b[1;33m=\u001b[0m\u001b[1;32mTrue\u001b[0m\u001b[1;33m)\u001b[0m\u001b[1;33m\u001b[0m\u001b[0m\n\u001b[0m\u001b[0;32m     10\u001b[0m \u001b[1;33m\u001b[0m\u001b[0m\n",
      "\u001b[1;32m/usr/local/anaconda3/lib/python3.5/site-packages/pandas/core/generic.py\u001b[0m in \u001b[0;36mmask\u001b[1;34m(self, cond, other, inplace, axis, level, try_cast, raise_on_error)\u001b[0m\n\u001b[0;32m   4439\u001b[0m     def mask(self, cond, other=np.nan, inplace=False, axis=None, level=None,\n\u001b[0;32m   4440\u001b[0m              try_cast=False, raise_on_error=True):\n\u001b[1;32m-> 4441\u001b[1;33m         return self.where(~cond, other=other, inplace=inplace, axis=axis,\n\u001b[0m\u001b[0;32m   4442\u001b[0m                           \u001b[0mlevel\u001b[0m\u001b[1;33m=\u001b[0m\u001b[0mlevel\u001b[0m\u001b[1;33m,\u001b[0m \u001b[0mtry_cast\u001b[0m\u001b[1;33m=\u001b[0m\u001b[0mtry_cast\u001b[0m\u001b[1;33m,\u001b[0m\u001b[1;33m\u001b[0m\u001b[0m\n\u001b[0;32m   4443\u001b[0m                           raise_on_error=raise_on_error)\n",
      "\u001b[1;31mTypeError\u001b[0m: bad operand type for unary ~: 'function'"
     ]
    }
   ],
   "source": [
    "import numpy as np\n",
    "\n",
    "cf = df['correct'].to_frame()\n",
    "cf2 = cf\n",
    "\n",
    "cf.replace('False',0)\n",
    "cf.replace('True' ,1)\n",
    "\n",
    "plt.plot()"
   ]
  },
  {
   "cell_type": "code",
   "execution_count": 15,
   "metadata": {
    "collapsed": false
   },
   "outputs": [
    {
     "ename": "NameError",
     "evalue": "name 'eq' is not defined",
     "output_type": "error",
     "traceback": [
      "\u001b[1;31m---------------------------------------------------------------------------\u001b[0m",
      "\u001b[1;31mNameError\u001b[0m                                 Traceback (most recent call last)",
      "\u001b[1;32m<ipython-input-15-71813e19bae8>\u001b[0m in \u001b[0;36m<module>\u001b[1;34m()\u001b[0m\n\u001b[1;32m----> 1\u001b[1;33m \u001b[0meq\u001b[0m\u001b[1;33m(\u001b[0m\u001b[1;36m1\u001b[0m\u001b[1;33m,\u001b[0m\u001b[1;34m'True'\u001b[0m\u001b[1;33m)\u001b[0m\u001b[1;33m\u001b[0m\u001b[0m\n\u001b[0m",
      "\u001b[1;31mNameError\u001b[0m: name 'eq' is not defined"
     ]
    }
   ],
   "source": [
    "eq(1,'True')"
   ]
  },
  {
   "cell_type": "code",
   "execution_count": null,
   "metadata": {
    "collapsed": true
   },
   "outputs": [],
   "source": []
  }
 ],
 "metadata": {
  "kernelspec": {
   "display_name": "Python 3",
   "language": "python",
   "name": "python3"
  },
  "language_info": {
   "codemirror_mode": {
    "name": "ipython",
    "version": 3
   },
   "file_extension": ".py",
   "mimetype": "text/x-python",
   "name": "python",
   "nbconvert_exporter": "python",
   "pygments_lexer": "ipython3",
   "version": "3.5.1"
  }
 },
 "nbformat": 4,
 "nbformat_minor": 0
}
